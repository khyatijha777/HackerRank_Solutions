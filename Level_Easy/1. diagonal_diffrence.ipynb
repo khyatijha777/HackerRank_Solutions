{
 "cells": [
  {
   "cell_type": "code",
   "execution_count": 93,
   "metadata": {},
   "outputs": [],
   "source": [
    "import math\n",
    "import os\n",
    "import random\n",
    "import re\n",
    "import sys\n",
    "# import numpy as np\n",
    "\n",
    "#trace functon\n",
    "def trace(arr, dim):\n",
    "    i = 0\n",
    "    add = 0\n",
    "    n = len(arr[0])\n",
    "#setting up values for loop ccording to the dim\n",
    "    if dim == 0:\n",
    "        j = 0\n",
    "        skip =1\n",
    "    if dim == 1:\n",
    "        j = n-1\n",
    "        skip = -1\n",
    "#loop for adding values     \n",
    "    while i<n:\n",
    "        add = add + arr[i][j]\n",
    "        j = j + skip\n",
    "        i = i +1\n",
    "        \n",
    "    return add\n",
    "\n",
    "# Complete the diagonalDifference function below.\n",
    "def diagonalDifference(arr):\n",
    "    add1 = trace(arr,0)\n",
    "    add2 = trace(arr,1)\n",
    "    return abs(add1-add2)\n",
    "\n",
    "\n",
    "if __name__ == '__main__':\n",
    "    fptr = open(os.environ['OUTPUT_PATH'], 'w')\n",
    "\n",
    "    n = int(input())\n",
    "\n",
    "    arr = []\n",
    "\n",
    "    for _ in range(n):\n",
    "        arr.append(list(map(int, input().rstrip().split())))\n",
    "\n",
    "    result = diagonalDifference(arr)\n",
    "\n",
    "    fptr.write(str(result) + '\\n')\n",
    "\n",
    "    fptr.close()\n"
   ]
  },
  {
   "cell_type": "code",
   "execution_count": 94,
   "metadata": {},
   "outputs": [
    {
     "data": {
      "text/plain": [
       "0"
      ]
     },
     "execution_count": 94,
     "metadata": {},
     "output_type": "execute_result"
    }
   ],
   "source": [
    "diagonalDifference([[1, 2, 3],[4, 5, 8],[7, 8,9]])"
   ]
  },
  {
   "cell_type": "code",
   "execution_count": null,
   "metadata": {},
   "outputs": [],
   "source": []
  },
  {
   "cell_type": "code",
   "execution_count": null,
   "metadata": {},
   "outputs": [],
   "source": []
  }
 ],
 "metadata": {
  "kernelspec": {
   "display_name": "Python 3",
   "language": "python",
   "name": "python3"
  },
  "language_info": {
   "codemirror_mode": {
    "name": "ipython",
    "version": 3
   },
   "file_extension": ".py",
   "mimetype": "text/x-python",
   "name": "python",
   "nbconvert_exporter": "python",
   "pygments_lexer": "ipython3",
   "version": "3.6.4"
  }
 },
 "nbformat": 4,
 "nbformat_minor": 2
}
