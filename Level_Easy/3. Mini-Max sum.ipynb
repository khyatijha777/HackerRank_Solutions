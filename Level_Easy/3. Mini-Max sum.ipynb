{
 "cells": [
  {
   "cell_type": "code",
   "execution_count": 9,
   "metadata": {},
   "outputs": [],
   "source": [
    "#!/bin/python3\n",
    "\n",
    "import math\n",
    "import os\n",
    "import random\n",
    "import re\n",
    "import sys\n",
    "\n",
    "# the miniMaxSum function\n",
    "def miniMaxSum(arr):\n",
    "    #finind maximum, minimum and sum of arr\n",
    "    maxi = max(arr)\n",
    "    mini = min(arr)\n",
    "    total = sum(arr)\n",
    "    #minimum sum can be calculated by deleting maximum element\n",
    "    arr_min = total- maxi\n",
    "    #maximum sum can be calculated by deleting minimum element\n",
    "    arr_maxi = total- mini\n",
    "    \n",
    "    #printint output\n",
    "    print(arr_min ,arr_maxi)\n",
    "\n",
    "if __name__ == '__main__':\n",
    "    arr = list(map(int, input().rstrip().split()))\n",
    "\n",
    "    miniMaxSum(arr)"
   ]
  },
  {
   "cell_type": "code",
   "execution_count": null,
   "metadata": {},
   "outputs": [],
   "source": []
  },
  {
   "cell_type": "code",
   "execution_count": null,
   "metadata": {},
   "outputs": [],
   "source": []
  }
 ],
 "metadata": {
  "kernelspec": {
   "display_name": "Python 3",
   "language": "python",
   "name": "python3"
  },
  "language_info": {
   "codemirror_mode": {
    "name": "ipython",
    "version": 3
   },
   "file_extension": ".py",
   "mimetype": "text/x-python",
   "name": "python",
   "nbconvert_exporter": "python",
   "pygments_lexer": "ipython3",
   "version": "3.6.4"
  }
 },
 "nbformat": 4,
 "nbformat_minor": 2
}
