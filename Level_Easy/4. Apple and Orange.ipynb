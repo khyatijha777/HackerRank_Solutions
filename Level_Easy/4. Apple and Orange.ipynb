{
 "cells": [
  {
   "cell_type": "code",
   "execution_count": 4,
   "metadata": {},
   "outputs": [
    {
     "name": "stdout",
     "output_type": "stream",
     "text": [
      "enter value of s and t\n",
      "4 9\n",
      "enter position of a-apple and b-orange\n",
      "1 12\n",
      "enter no of m-apple and n-orange\n",
      "3 3\n",
      "enter the distance of each apple\n",
      "4 -2 -6\n",
      "enter the distance of each orange\n",
      "-5 -3 5\n",
      "1\n",
      "1\n"
     ]
    }
   ],
   "source": [
    "#!/bin/python3\n",
    "\n",
    "import math\n",
    "import os\n",
    "import random\n",
    "import re\n",
    "import sys\n",
    "\n",
    "def counting(s,t,dis,fruit):\n",
    "    count = 0\n",
    "    for i in fruit:\n",
    "        if (dis + i)<=t and (dis+i)>=s:\n",
    "            count  = count+1\n",
    "    return count\n",
    "    \n",
    "# Complete the countApplesAndOranges function below.\n",
    "def countApplesAndOranges(s, t, a, b, apples, oranges):\n",
    "    print(counting(s,t,a,apples))\n",
    "    print(counting(s,t,b,oranges))\n",
    "    \n",
    "\n",
    "if __name__ == '__main__':\n",
    "    print(\"enter value of s and t\")\n",
    "    st = input().split()\n",
    "    s = int(st[0])\n",
    "    t = int(st[1])\n",
    "\n",
    "    print(\"enter position of a-apple and b-orange\")\n",
    "    ab = input().split()\n",
    "    a = int(ab[0])\n",
    "    b = int(ab[1])\n",
    "\n",
    "    print(\"enter no of m-apple and n-orange\")\n",
    "    mn = input().split()\n",
    "    m = int(mn[0])\n",
    "    n = int(mn[1])\n",
    "\n",
    "\n",
    "    print(\"enter the distance of each apple\")\n",
    "    apples = list(map(int, input().rstrip().split()))\n",
    "    print(\"enter the distance of each orange\")\n",
    "    oranges = list(map(int, input().rstrip().split()))\n",
    "\n",
    "    countApplesAndOranges(s, t, a, b, apples, oranges)\n",
    "\n"
   ]
  },
  {
   "cell_type": "code",
   "execution_count": null,
   "metadata": {},
   "outputs": [],
   "source": []
  }
 ],
 "metadata": {
  "kernelspec": {
   "display_name": "Python 3",
   "language": "python",
   "name": "python3"
  },
  "language_info": {
   "codemirror_mode": {
    "name": "ipython",
    "version": 3
   },
   "file_extension": ".py",
   "mimetype": "text/x-python",
   "name": "python",
   "nbconvert_exporter": "python",
   "pygments_lexer": "ipython3",
   "version": "3.6.4"
  }
 },
 "nbformat": 4,
 "nbformat_minor": 2
}
